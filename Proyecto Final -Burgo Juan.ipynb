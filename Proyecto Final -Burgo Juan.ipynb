{
 "cells": [
  {
   "attachments": {
    "9eefaa29-39b9-42ba-8098-14bd225764ef.png": {
     "image/png": "[encoded data removed]"
    }
   },
   "cell_type": "markdown",
   "metadata": {},
   "source": [
    "# Problema de Negocio\n",
    "\n",
    "En el problema planteado se requiere definir el perfil de los clientes potenciales que compra el producto, analizando los features que lo defininen como son la Edad, Pais, Programa consultado, Univerisidad, etc.\n",
    "\n",
    "#### Elementos a considerar para el planteo\n",
    "\n",
    "Para afrontar el planteo presentado anteriormente es necesario tener en cuenta las siguientes consideraciones:\n",
    "\n",
    "- La empresa ofrece programas de estudios a diferentes clientes potenciales con el fin de poder realizar la conversion\n",
    "- El clientel potencial deriva de diferente fuentes como pueden ser redes sociales o landing page donde los mismos presentan los datos \n",
    "- Los cliente preceden de diferentes paises de latinoamerica y tiene caracteristicas diferentes que los definen como consumidor\n",
    "- Una vez obtenido los datos del cliente potencial, los mismos son contactados por medio de llamadas, email o mesajes con el fin de poder convertir los clientes potenciales en alumnos\n",
    "\n",
    "\n",
    "# Datos del Negocio\n",
    "\n",
    "Para el analisis del problema planteado se presento una Base de datos que contiene todos los clientes potenciales junto con las caracterisiticas asociadas a cada uno y una columnas que contiene booleanos, la cual determina si el cliente potencial realizo o no la compra del programa. Para entender mejor la Base de datos se presentan las columnas junto con la explicacion de cada una de ellas.\n",
    "\n",
    "![image.png](attachment:9eefaa29-39b9-42ba-8098-14bd225764ef.png)\n",
    "\n",
    "# Analisis de los datos \n",
    "\n",
    "A continuacion se realiza el analisis de los diferentes features con el fin de determinar relaciones y estudiar el comportamiento de los mismos, con el objetivo de definir cual es el algoritmo mas conveniente y poder preparar los datos para aplicarlo"
   ]
  },
  {
   "cell_type": "code",
   "execution_count": 61,
   "metadata": {},
   "outputs": [],
   "source": [
    "#Importo las librerias\n",
    "import pandas as pd\n",
    "import matplotlib.pyplot as plt\n",
    "import seaborn as sns\n",
    "import urllib.request\n",
    "from sklearn.model_selection import train_test_split\n",
    "from sklearn.ensemble import RandomForestClassifier\n",
    "from sklearn.tree import DecisionTreeClassifier"
   ]
  },
  {
   "cell_type": "code",
   "execution_count": 62,
   "metadata": {},
   "outputs": [
    {
     "data": {
      "text/html": [
       "<div>\n",
       "<style scoped>\n",
       "    .dataframe tbody tr th:only-of-type {\n",
       "        vertical-align: middle;\n",
       "    }\n",
       "\n",
       "    .dataframe tbody tr th {\n",
       "        vertical-align: top;\n",
       "    }\n",
       "\n",
       "    .dataframe thead th {\n",
       "        text-align: right;\n",
       "    }\n",
       "</style>\n",
       "<table border=\"1\" class=\"dataframe\">\n",
       "  <thead>\n",
       "    <tr style=\"text-align: right;\">\n",
       "      <th></th>\n",
       "      <th>Id</th>\n",
       "      <th>DateTime</th>\n",
       "      <th>Source</th>\n",
       "      <th>SubSource</th>\n",
       "      <th>UniversityId</th>\n",
       "      <th>InterestLevel</th>\n",
       "      <th>Program</th>\n",
       "      <th>Country</th>\n",
       "      <th>Level</th>\n",
       "      <th>University Type</th>\n",
       "      <th>Indice</th>\n",
       "      <th>Agente Actual</th>\n",
       "      <th>Hour</th>\n",
       "      <th>OfficeHours</th>\n",
       "      <th>Gender2</th>\n",
       "      <th>Age</th>\n",
       "      <th>Day Name</th>\n",
       "      <th>PaymentDate</th>\n",
       "    </tr>\n",
       "  </thead>\n",
       "  <tbody>\n",
       "    <tr>\n",
       "      <th>0</th>\n",
       "      <td>209512</td>\n",
       "      <td>22-Jul-21</td>\n",
       "      <td>Social</td>\n",
       "      <td>Instagram Paid Ad</td>\n",
       "      <td>106</td>\n",
       "      <td>NaN</td>\n",
       "      <td>UNDEFINED</td>\n",
       "      <td>Colombia</td>\n",
       "      <td>Undefined</td>\n",
       "      <td>TU</td>\n",
       "      <td>209512TU</td>\n",
       "      <td>Agustin Solowinski</td>\n",
       "      <td>1</td>\n",
       "      <td>Out</td>\n",
       "      <td>Other</td>\n",
       "      <td>NaN</td>\n",
       "      <td>jueves</td>\n",
       "      <td>0</td>\n",
       "    </tr>\n",
       "    <tr>\n",
       "      <th>1</th>\n",
       "      <td>209562</td>\n",
       "      <td>22-Jul-21</td>\n",
       "      <td>Social</td>\n",
       "      <td>Instagram Paid Ad</td>\n",
       "      <td>106</td>\n",
       "      <td>NaN</td>\n",
       "      <td>UNDEFINED</td>\n",
       "      <td>Argentina</td>\n",
       "      <td>Undefined</td>\n",
       "      <td>TU</td>\n",
       "      <td>209562TU</td>\n",
       "      <td>Franco Vega</td>\n",
       "      <td>3</td>\n",
       "      <td>Out</td>\n",
       "      <td>Other</td>\n",
       "      <td>NaN</td>\n",
       "      <td>jueves</td>\n",
       "      <td>0</td>\n",
       "    </tr>\n",
       "    <tr>\n",
       "      <th>2</th>\n",
       "      <td>209676</td>\n",
       "      <td>22-Jul-21</td>\n",
       "      <td>Social</td>\n",
       "      <td>FB Paid Ad</td>\n",
       "      <td>106</td>\n",
       "      <td>NaN</td>\n",
       "      <td>UNDEFINED</td>\n",
       "      <td>Ecuador</td>\n",
       "      <td>Undefined</td>\n",
       "      <td>TU</td>\n",
       "      <td>209676TU</td>\n",
       "      <td>Franco Vega</td>\n",
       "      <td>9</td>\n",
       "      <td>Out</td>\n",
       "      <td>Other</td>\n",
       "      <td>NaN</td>\n",
       "      <td>jueves</td>\n",
       "      <td>0</td>\n",
       "    </tr>\n",
       "    <tr>\n",
       "      <th>3</th>\n",
       "      <td>209867</td>\n",
       "      <td>22-Jul-21</td>\n",
       "      <td>Social</td>\n",
       "      <td>Instagram Paid Ad</td>\n",
       "      <td>106</td>\n",
       "      <td>NaN</td>\n",
       "      <td>UNDEFINED</td>\n",
       "      <td>Ecuador</td>\n",
       "      <td>Undefined</td>\n",
       "      <td>TU</td>\n",
       "      <td>209867TU</td>\n",
       "      <td>Franco Vega</td>\n",
       "      <td>12</td>\n",
       "      <td>In</td>\n",
       "      <td>Other</td>\n",
       "      <td>NaN</td>\n",
       "      <td>jueves</td>\n",
       "      <td>0</td>\n",
       "    </tr>\n",
       "    <tr>\n",
       "      <th>4</th>\n",
       "      <td>209836</td>\n",
       "      <td>22-Jul-21</td>\n",
       "      <td>Social</td>\n",
       "      <td>Instagram Paid Ad</td>\n",
       "      <td>106</td>\n",
       "      <td>NaN</td>\n",
       "      <td>UNDEFINED</td>\n",
       "      <td>Per�</td>\n",
       "      <td>Undefined</td>\n",
       "      <td>TU</td>\n",
       "      <td>209836TU</td>\n",
       "      <td>Agustin Solowinski</td>\n",
       "      <td>11</td>\n",
       "      <td>In</td>\n",
       "      <td>Other</td>\n",
       "      <td>NaN</td>\n",
       "      <td>jueves</td>\n",
       "      <td>0</td>\n",
       "    </tr>\n",
       "  </tbody>\n",
       "</table>\n",
       "</div>"
      ],
      "text/plain": [
       "       Id   DateTime  Source          SubSource  UniversityId InterestLevel  \\\n",
       "0  209512  22-Jul-21  Social  Instagram Paid Ad           106           NaN   \n",
       "1  209562  22-Jul-21  Social  Instagram Paid Ad           106           NaN   \n",
       "2  209676  22-Jul-21  Social         FB Paid Ad           106           NaN   \n",
       "3  209867  22-Jul-21  Social  Instagram Paid Ad           106           NaN   \n",
       "4  209836  22-Jul-21  Social  Instagram Paid Ad           106           NaN   \n",
       "\n",
       "     Program    Country      Level University Type    Indice  \\\n",
       "0  UNDEFINED   Colombia  Undefined              TU  209512TU   \n",
       "1  UNDEFINED  Argentina  Undefined              TU  209562TU   \n",
       "2  UNDEFINED    Ecuador  Undefined              TU  209676TU   \n",
       "3  UNDEFINED    Ecuador  Undefined              TU  209867TU   \n",
       "4  UNDEFINED       Per�  Undefined              TU  209836TU   \n",
       "\n",
       "        Agente Actual  Hour OfficeHours Gender2  Age Day Name  PaymentDate  \n",
       "0  Agustin Solowinski     1         Out   Other  NaN   jueves            0  \n",
       "1         Franco Vega     3         Out   Other  NaN   jueves            0  \n",
       "2         Franco Vega     9         Out   Other  NaN   jueves            0  \n",
       "3         Franco Vega    12          In   Other  NaN   jueves            0  \n",
       "4  Agustin Solowinski    11          In   Other  NaN   jueves            0  "
      ]
     },
     "execution_count": 62,
     "metadata": {},
     "output_type": "execute_result"
    }
   ],
   "source": [
    "#Importo el archivo csv con el Dataset\n",
    "df = pd.read_csv('C:\\\\Users\\\\ACER\\\\Documents\\\\Burgo Juan\\\\Coder - Data Science\\\\Proyecto Final\\\\DataBase - Copy.csv')\n",
    "df.head()"
   ]
  },
  {
   "cell_type": "code",
   "execution_count": 63,
   "metadata": {},
   "outputs": [
    {
     "name": "stdout",
     "output_type": "stream",
     "text": [
      "<class 'pandas.core.frame.DataFrame'>\n",
      "RangeIndex: 239325 entries, 0 to 239324\n",
      "Data columns (total 18 columns):\n",
      " #   Column           Non-Null Count   Dtype  \n",
      "---  ------           --------------   -----  \n",
      " 0   Id               239325 non-null  int64  \n",
      " 1   DateTime         239325 non-null  object \n",
      " 2   Source           239325 non-null  object \n",
      " 3   SubSource        239325 non-null  object \n",
      " 4   UniversityId     239325 non-null  int64  \n",
      " 5   InterestLevel    42046 non-null   object \n",
      " 6   Program          239325 non-null  object \n",
      " 7   Country          239313 non-null  object \n",
      " 8   Level            239325 non-null  object \n",
      " 9   University Type  239325 non-null  object \n",
      " 10  Indice           239325 non-null  object \n",
      " 11  Agente Actual    239325 non-null  object \n",
      " 12  Hour             239325 non-null  int64  \n",
      " 13  OfficeHours      239325 non-null  object \n",
      " 14  Gender2          239325 non-null  object \n",
      " 15  Age              8557 non-null    float64\n",
      " 16  Day Name         239325 non-null  object \n",
      " 17  PaymentDate      239325 non-null  int64  \n",
      "dtypes: float64(1), int64(4), object(13)\n",
      "memory usage: 32.9+ MB\n"
     ]
    }
   ],
   "source": [
    "# Presento la informacion del Data set para que el tipo de datos que tengo y si se presentan valores nulos.\n",
    "df.info()"
   ]
  },
  {
   "cell_type": "code",
   "execution_count": 64,
   "metadata": {
    "scrolled": true
   },
   "outputs": [
    {
     "data": {
      "text/plain": [
       "(239325, 18)"
      ]
     },
     "execution_count": 64,
     "metadata": {},
     "output_type": "execute_result"
    }
   ],
   "source": [
    "#Consulto la cantidad de filas y columnas del DataSet\n",
    "df.shape"
   ]
  },
  {
   "cell_type": "code",
   "execution_count": 66,
   "metadata": {},
   "outputs": [],
   "source": [
    "# Modifico el tipo de dato de la columna \"Date Time\"\n",
    "df[\"DateTime\"]=pd.to_datetime(df[\"DateTime\"]) "
   ]
  },
  {
   "cell_type": "code",
   "execution_count": 67,
   "metadata": {},
   "outputs": [
    {
     "name": "stdout",
     "output_type": "stream",
     "text": [
      "<class 'pandas.core.frame.DataFrame'>\n",
      "RangeIndex: 239325 entries, 0 to 239324\n",
      "Data columns (total 18 columns):\n",
      " #   Column           Non-Null Count   Dtype         \n",
      "---  ------           --------------   -----         \n",
      " 0   Id               239325 non-null  int64         \n",
      " 1   DateTime         239325 non-null  datetime64[ns]\n",
      " 2   Source           239325 non-null  object        \n",
      " 3   SubSource        239325 non-null  object        \n",
      " 4   UniversityId     239325 non-null  int64         \n",
      " 5   InterestLevel    42046 non-null   object        \n",
      " 6   Program          239325 non-null  object        \n",
      " 7   Country          239313 non-null  object        \n",
      " 8   Level            239325 non-null  object        \n",
      " 9   University Type  239325 non-null  object        \n",
      " 10  Indice           239325 non-null  object        \n",
      " 11  Agente Actual    239325 non-null  object        \n",
      " 12  Hour             239325 non-null  int64         \n",
      " 13  OfficeHours      239325 non-null  object        \n",
      " 14  Gender2          239325 non-null  object        \n",
      " 15  Age              8557 non-null    float64       \n",
      " 16  Day Name         239325 non-null  object        \n",
      " 17  PaymentDate      239325 non-null  int64         \n",
      "dtypes: datetime64[ns](1), float64(1), int64(4), object(12)\n",
      "memory usage: 32.9+ MB\n"
     ]
    }
   ],
   "source": [
    "# Presento nuevamente la informacion del Data set.\n",
    "df.info()"
   ]
  },
  {
   "cell_type": "code",
   "execution_count": 68,
   "metadata": {},
   "outputs": [
    {
     "data": {
      "text/plain": [
       "Mexico               123614\n",
       "Colombia              50266\n",
       "Per�                  26372\n",
       "Ecuador                9849\n",
       "Argentina              7987\n",
       "                      ...  \n",
       "Macao                     1\n",
       "Jamaica                   1\n",
       "Zambia                    1\n",
       "Costa de Marfil           1\n",
       "Trinidad y Tobago         1\n",
       "Name: Country, Length: 87, dtype: int64"
      ]
     },
     "execution_count": 68,
     "metadata": {},
     "output_type": "execute_result"
    }
   ],
   "source": [
    "#Cuento la cantidad de veces en que se presenta cada pais.\n",
    "df[\"Country\"].value_counts()"
   ]
  },
  {
   "cell_type": "code",
   "execution_count": 69,
   "metadata": {},
   "outputs": [
    {
     "data": {
      "text/plain": [
       "Id                 239325\n",
       "DateTime           239325\n",
       "Source             239325\n",
       "SubSource          239325\n",
       "UniversityId       239325\n",
       "InterestLevel       42046\n",
       "Program            239325\n",
       "Country            239313\n",
       "Level              239325\n",
       "University Type    239325\n",
       "Indice             239325\n",
       "Agente Actual      239325\n",
       "Hour               239325\n",
       "OfficeHours        239325\n",
       "Gender2            239325\n",
       "Age                  8557\n",
       "Day Name           239325\n",
       "PaymentDate        239325\n",
       "dtype: int64"
      ]
     },
     "execution_count": 69,
     "metadata": {},
     "output_type": "execute_result"
    }
   ],
   "source": [
    "#Cuento la cantidad de valores para cada columna del DataSet\n",
    "df.count()"
   ]
  },
  {
   "cell_type": "code",
   "execution_count": 70,
   "metadata": {},
   "outputs": [
    {
     "data": {
      "text/plain": [
       "Id                          int64\n",
       "DateTime           datetime64[ns]\n",
       "Source                     object\n",
       "SubSource                  object\n",
       "UniversityId                int64\n",
       "InterestLevel              object\n",
       "Program                    object\n",
       "Country                    object\n",
       "Level                      object\n",
       "University Type            object\n",
       "Indice                     object\n",
       "Agente Actual              object\n",
       "Hour                        int64\n",
       "OfficeHours                object\n",
       "Gender2                    object\n",
       "Age                       float64\n",
       "Day Name                   object\n",
       "PaymentDate                 int64\n",
       "dtype: object"
      ]
     },
     "execution_count": 70,
     "metadata": {},
     "output_type": "execute_result"
    }
   ],
   "source": [
    "#Consulto el tipo de cada columna del DataSet\n",
    "df.dtypes"
   ]
  },
  {
   "cell_type": "code",
   "execution_count": 71,
   "metadata": {
    "scrolled": true
   },
   "outputs": [
    {
     "data": {
      "text/plain": [
       "pandas.core.frame.DataFrame"
      ]
     },
     "execution_count": 71,
     "metadata": {},
     "output_type": "execute_result"
    }
   ],
   "source": [
    "type(df)"
   ]
  },
  {
   "cell_type": "markdown",
   "metadata": {},
   "source": [
    "#### Analisis Univariado"
   ]
  },
  {
   "cell_type": "code",
   "execution_count": 72,
   "metadata": {},
   "outputs": [
    {
     "data": {
      "text/plain": [
       "<AxesSubplot:xlabel='Age', ylabel='Count'>"
      ]
     },
     "execution_count": 72,
     "metadata": {},
     "output_type": "execute_result"
    },
    {
     "data": {
      "image/png": "[encoded data removed]",
      "text/plain": [
       "<Figure size 432x288 with 1 Axes>"
      ]
     },
     "metadata": {
      "needs_background": "light"
     },
     "output_type": "display_data"
    }
   ],
   "source": [
    "#Creo Histograma de la variable Edad\n",
    "sns.histplot(df['Age'],kde=False,color='Red',bins=20)"
   ]
  },
  {
   "cell_type": "code",
   "execution_count": 73,
   "metadata": {
    "tags": []
   },
   "outputs": [
    {
     "data": {
      "text/plain": [
       "<AxesSubplot:xlabel='Hour', ylabel='Count'>"
      ]
     },
     "execution_count": 73,
     "metadata": {},
     "output_type": "execute_result"
    },
    {
     "data": {
      "image/png": "[encoded data removed]",
      "text/plain": [
       "<Figure size 432x288 with 1 Axes>"
      ]
     },
     "metadata": {
      "needs_background": "light"
     },
     "output_type": "display_data"
    }
   ],
   "source": [
    "#Creo Histograma de la variable Hora de ingreso del Cliente potencial\n",
    "sns.histplot(df['Hour'],kde=False,color='Green',bins=24)"
   ]
  },
  {
   "cell_type": "markdown",
   "metadata": {},
   "source": [
    "#### Analisis Bivariado"
   ]
  },
  {
   "cell_type": "code",
   "execution_count": 74,
   "metadata": {},
   "outputs": [
    {
     "name": "stderr",
     "output_type": "stream",
     "text": [
      "C:\\Users\\ACER\\anaconda3\\lib\\site-packages\\seaborn\\_decorators.py:36: FutureWarning: Pass the following variables as keyword args: x, y. From version 0.12, the only valid positional argument will be `data`, and passing other arguments without an explicit keyword will result in an error or misinterpretation.\n",
      "  warnings.warn(\n"
     ]
    },
    {
     "data": {
      "text/plain": [
       "<AxesSubplot:xlabel='University Type', ylabel='Hour'>"
      ]
     },
     "execution_count": 74,
     "metadata": {},
     "output_type": "execute_result"
    },
    {
     "data": {
      "image/png": "[encoded data removed]",
      "text/plain": [
       "<Figure size 432x288 with 1 Axes>"
      ]
     },
     "metadata": {
      "needs_background": "light"
     },
     "output_type": "display_data"
    }
   ],
   "source": [
    "#Realizo un Boxplot entre la varible Universidad y la Hora de ingreso del Cliente potencial\n",
    "sns.boxplot(df['University Type'],df['Hour'],palette='colorblind')"
   ]
  },
  {
   "cell_type": "code",
   "execution_count": 75,
   "metadata": {},
   "outputs": [
    {
     "name": "stderr",
     "output_type": "stream",
     "text": [
      "C:\\Users\\ACER\\anaconda3\\lib\\site-packages\\seaborn\\_decorators.py:36: FutureWarning: Pass the following variables as keyword args: x, y. From version 0.12, the only valid positional argument will be `data`, and passing other arguments without an explicit keyword will result in an error or misinterpretation.\n",
      "  warnings.warn(\n"
     ]
    },
    {
     "data": {
      "text/plain": [
       "<AxesSubplot:xlabel='University Type', ylabel='Age'>"
      ]
     },
     "execution_count": 75,
     "metadata": {},
     "output_type": "execute_result"
    },
    {
     "data": {
      "image/png": "[encoded data removed]",
      "text/plain": [
       "<Figure size 432x288 with 1 Axes>"
      ]
     },
     "metadata": {
      "needs_background": "light"
     },
     "output_type": "display_data"
    }
   ],
   "source": [
    "#Realizo un Violinplot entre la varible Universidad y la edad del Cliente potencial\n",
    "sns.violinplot(df['University Type'],df['Age'],gridsize= 25, palette='colorblind')"
   ]
  },
  {
   "cell_type": "markdown",
   "metadata": {},
   "source": [
    "# Algoritmo del Arbol de Decision\n",
    "\n",
    "El algoritmo  de entrenamiento seleccionado fue el arbol de decision y continuacion se realizara la preparacion y aplicacion del algoritmo sobre la Base de Datos presentada anteriormente"
   ]
  },
  {
   "cell_type": "code",
   "execution_count": 76,
   "metadata": {},
   "outputs": [
    {
     "data": {
      "text/html": [
       "<div>\n",
       "<style scoped>\n",
       "    .dataframe tbody tr th:only-of-type {\n",
       "        vertical-align: middle;\n",
       "    }\n",
       "\n",
       "    .dataframe tbody tr th {\n",
       "        vertical-align: top;\n",
       "    }\n",
       "\n",
       "    .dataframe thead th {\n",
       "        text-align: right;\n",
       "    }\n",
       "</style>\n",
       "<table border=\"1\" class=\"dataframe\">\n",
       "  <thead>\n",
       "    <tr style=\"text-align: right;\">\n",
       "      <th></th>\n",
       "      <th>University Type</th>\n",
       "      <th>SubSource</th>\n",
       "      <th>Paid</th>\n",
       "      <th>Program</th>\n",
       "      <th>Country</th>\n",
       "    </tr>\n",
       "  </thead>\n",
       "  <tbody>\n",
       "    <tr>\n",
       "      <th>0</th>\n",
       "      <td>TU</td>\n",
       "      <td>Instagram Paid Ad</td>\n",
       "      <td>0</td>\n",
       "      <td>UNDEFINED</td>\n",
       "      <td>Colombia</td>\n",
       "    </tr>\n",
       "    <tr>\n",
       "      <th>1</th>\n",
       "      <td>TU</td>\n",
       "      <td>Instagram Paid Ad</td>\n",
       "      <td>0</td>\n",
       "      <td>UNDEFINED</td>\n",
       "      <td>Argentina</td>\n",
       "    </tr>\n",
       "    <tr>\n",
       "      <th>2</th>\n",
       "      <td>TU</td>\n",
       "      <td>FB Paid Ad</td>\n",
       "      <td>0</td>\n",
       "      <td>UNDEFINED</td>\n",
       "      <td>Ecuador</td>\n",
       "    </tr>\n",
       "    <tr>\n",
       "      <th>3</th>\n",
       "      <td>TU</td>\n",
       "      <td>Instagram Paid Ad</td>\n",
       "      <td>0</td>\n",
       "      <td>UNDEFINED</td>\n",
       "      <td>Ecuador</td>\n",
       "    </tr>\n",
       "    <tr>\n",
       "      <th>4</th>\n",
       "      <td>TU</td>\n",
       "      <td>Instagram Paid Ad</td>\n",
       "      <td>0</td>\n",
       "      <td>UNDEFINED</td>\n",
       "      <td>Per�</td>\n",
       "    </tr>\n",
       "    <tr>\n",
       "      <th>...</th>\n",
       "      <td>...</td>\n",
       "      <td>...</td>\n",
       "      <td>...</td>\n",
       "      <td>...</td>\n",
       "      <td>...</td>\n",
       "    </tr>\n",
       "    <tr>\n",
       "      <th>239320</th>\n",
       "      <td>TU</td>\n",
       "      <td>FB Paid Ad</td>\n",
       "      <td>0</td>\n",
       "      <td>Lic. en Psicolog�a - Servicios Sociales</td>\n",
       "      <td>Colombia</td>\n",
       "    </tr>\n",
       "    <tr>\n",
       "      <th>239321</th>\n",
       "      <td>TU</td>\n",
       "      <td>FB Paid Ad</td>\n",
       "      <td>0</td>\n",
       "      <td>UNDEFINED</td>\n",
       "      <td>Per�</td>\n",
       "    </tr>\n",
       "    <tr>\n",
       "      <th>239322</th>\n",
       "      <td>TU</td>\n",
       "      <td>FB Paid Ad</td>\n",
       "      <td>0</td>\n",
       "      <td>Lic. en Psicolog�a - Servicios Sociales</td>\n",
       "      <td>Colombia</td>\n",
       "    </tr>\n",
       "    <tr>\n",
       "      <th>239323</th>\n",
       "      <td>TU</td>\n",
       "      <td>FB Paid Ad</td>\n",
       "      <td>0</td>\n",
       "      <td>UNDEFINED</td>\n",
       "      <td>Paraguay</td>\n",
       "    </tr>\n",
       "    <tr>\n",
       "      <th>239324</th>\n",
       "      <td>TU</td>\n",
       "      <td>FB Paid Ad</td>\n",
       "      <td>0</td>\n",
       "      <td>Lic. en Psicolog�a - Servicios Sociales</td>\n",
       "      <td>Ecuador</td>\n",
       "    </tr>\n",
       "  </tbody>\n",
       "</table>\n",
       "<p>239325 rows × 5 columns</p>\n",
       "</div>"
      ],
      "text/plain": [
       "       University Type          SubSource  Paid  \\\n",
       "0                   TU  Instagram Paid Ad     0   \n",
       "1                   TU  Instagram Paid Ad     0   \n",
       "2                   TU         FB Paid Ad     0   \n",
       "3                   TU  Instagram Paid Ad     0   \n",
       "4                   TU  Instagram Paid Ad     0   \n",
       "...                ...                ...   ...   \n",
       "239320              TU         FB Paid Ad     0   \n",
       "239321              TU         FB Paid Ad     0   \n",
       "239322              TU         FB Paid Ad     0   \n",
       "239323              TU         FB Paid Ad     0   \n",
       "239324              TU         FB Paid Ad     0   \n",
       "\n",
       "                                        Program    Country  \n",
       "0                                     UNDEFINED   Colombia  \n",
       "1                                     UNDEFINED  Argentina  \n",
       "2                                     UNDEFINED    Ecuador  \n",
       "3                                     UNDEFINED    Ecuador  \n",
       "4                                     UNDEFINED       Per�  \n",
       "...                                         ...        ...  \n",
       "239320  Lic. en Psicolog�a - Servicios Sociales   Colombia  \n",
       "239321                                UNDEFINED       Per�  \n",
       "239322  Lic. en Psicolog�a - Servicios Sociales   Colombia  \n",
       "239323                                UNDEFINED   Paraguay  \n",
       "239324  Lic. en Psicolog�a - Servicios Sociales    Ecuador  \n",
       "\n",
       "[239325 rows x 5 columns]"
      ]
     },
     "execution_count": 76,
     "metadata": {},
     "output_type": "execute_result"
    }
   ],
   "source": [
    "#Creo un nuevo data frame reduciendo los datos que requiero para entrenar los algoritmos de clasificacion\n",
    "DfTree= pd.DataFrame(df[\"University Type\"])\n",
    "DfTree[\"SubSource\"]=df[\"SubSource\"]\n",
    "DfTree[\"Paid\"]=df[\"PaymentDate\"]\n",
    "DfTree[\"Program\"]=df[\"Program\"]\n",
    "DfTree[\"Country\"]=df[\"Country\"]\n",
    "DfTree"
   ]
  },
  {
   "cell_type": "code",
   "execution_count": 77,
   "metadata": {},
   "outputs": [
    {
     "data": {
      "text/html": [
       "<div>\n",
       "<style scoped>\n",
       "    .dataframe tbody tr th:only-of-type {\n",
       "        vertical-align: middle;\n",
       "    }\n",
       "\n",
       "    .dataframe tbody tr th {\n",
       "        vertical-align: top;\n",
       "    }\n",
       "\n",
       "    .dataframe thead th {\n",
       "        text-align: right;\n",
       "    }\n",
       "</style>\n",
       "<table border=\"1\" class=\"dataframe\">\n",
       "  <thead>\n",
       "    <tr style=\"text-align: right;\">\n",
       "      <th></th>\n",
       "      <th>Paid</th>\n",
       "      <th>University Type_SLU</th>\n",
       "      <th>University Type_SNHU</th>\n",
       "      <th>University Type_TU</th>\n",
       "      <th>SubSource_Agent Received Email</th>\n",
       "      <th>SubSource_Bing Organic</th>\n",
       "      <th>SubSource_Bing Search</th>\n",
       "      <th>SubSource_FB Fan Page Comment</th>\n",
       "      <th>SubSource_FB Paid Ad</th>\n",
       "      <th>SubSource_FB Paid Ad CPC</th>\n",
       "      <th>...</th>\n",
       "      <th>Country_Taiw�n</th>\n",
       "      <th>Country_Trinidad y Tobago</th>\n",
       "      <th>Country_Turqu�a</th>\n",
       "      <th>Country_USA</th>\n",
       "      <th>Country_Ucrania</th>\n",
       "      <th>Country_United States</th>\n",
       "      <th>Country_Uruguay</th>\n",
       "      <th>Country_Venezuela</th>\n",
       "      <th>Country_Vietnam</th>\n",
       "      <th>Country_Zambia</th>\n",
       "    </tr>\n",
       "  </thead>\n",
       "  <tbody>\n",
       "    <tr>\n",
       "      <th>0</th>\n",
       "      <td>0</td>\n",
       "      <td>0</td>\n",
       "      <td>0</td>\n",
       "      <td>1</td>\n",
       "      <td>0</td>\n",
       "      <td>0</td>\n",
       "      <td>0</td>\n",
       "      <td>0</td>\n",
       "      <td>0</td>\n",
       "      <td>0</td>\n",
       "      <td>...</td>\n",
       "      <td>0</td>\n",
       "      <td>0</td>\n",
       "      <td>0</td>\n",
       "      <td>0</td>\n",
       "      <td>0</td>\n",
       "      <td>0</td>\n",
       "      <td>0</td>\n",
       "      <td>0</td>\n",
       "      <td>0</td>\n",
       "      <td>0</td>\n",
       "    </tr>\n",
       "    <tr>\n",
       "      <th>1</th>\n",
       "      <td>0</td>\n",
       "      <td>0</td>\n",
       "      <td>0</td>\n",
       "      <td>1</td>\n",
       "      <td>0</td>\n",
       "      <td>0</td>\n",
       "      <td>0</td>\n",
       "      <td>0</td>\n",
       "      <td>0</td>\n",
       "      <td>0</td>\n",
       "      <td>...</td>\n",
       "      <td>0</td>\n",
       "      <td>0</td>\n",
       "      <td>0</td>\n",
       "      <td>0</td>\n",
       "      <td>0</td>\n",
       "      <td>0</td>\n",
       "      <td>0</td>\n",
       "      <td>0</td>\n",
       "      <td>0</td>\n",
       "      <td>0</td>\n",
       "    </tr>\n",
       "    <tr>\n",
       "      <th>2</th>\n",
       "      <td>0</td>\n",
       "      <td>0</td>\n",
       "      <td>0</td>\n",
       "      <td>1</td>\n",
       "      <td>0</td>\n",
       "      <td>0</td>\n",
       "      <td>0</td>\n",
       "      <td>0</td>\n",
       "      <td>1</td>\n",
       "      <td>0</td>\n",
       "      <td>...</td>\n",
       "      <td>0</td>\n",
       "      <td>0</td>\n",
       "      <td>0</td>\n",
       "      <td>0</td>\n",
       "      <td>0</td>\n",
       "      <td>0</td>\n",
       "      <td>0</td>\n",
       "      <td>0</td>\n",
       "      <td>0</td>\n",
       "      <td>0</td>\n",
       "    </tr>\n",
       "    <tr>\n",
       "      <th>3</th>\n",
       "      <td>0</td>\n",
       "      <td>0</td>\n",
       "      <td>0</td>\n",
       "      <td>1</td>\n",
       "      <td>0</td>\n",
       "      <td>0</td>\n",
       "      <td>0</td>\n",
       "      <td>0</td>\n",
       "      <td>0</td>\n",
       "      <td>0</td>\n",
       "      <td>...</td>\n",
       "      <td>0</td>\n",
       "      <td>0</td>\n",
       "      <td>0</td>\n",
       "      <td>0</td>\n",
       "      <td>0</td>\n",
       "      <td>0</td>\n",
       "      <td>0</td>\n",
       "      <td>0</td>\n",
       "      <td>0</td>\n",
       "      <td>0</td>\n",
       "    </tr>\n",
       "    <tr>\n",
       "      <th>4</th>\n",
       "      <td>0</td>\n",
       "      <td>0</td>\n",
       "      <td>0</td>\n",
       "      <td>1</td>\n",
       "      <td>0</td>\n",
       "      <td>0</td>\n",
       "      <td>0</td>\n",
       "      <td>0</td>\n",
       "      <td>0</td>\n",
       "      <td>0</td>\n",
       "      <td>...</td>\n",
       "      <td>0</td>\n",
       "      <td>0</td>\n",
       "      <td>0</td>\n",
       "      <td>0</td>\n",
       "      <td>0</td>\n",
       "      <td>0</td>\n",
       "      <td>0</td>\n",
       "      <td>0</td>\n",
       "      <td>0</td>\n",
       "      <td>0</td>\n",
       "    </tr>\n",
       "    <tr>\n",
       "      <th>...</th>\n",
       "      <td>...</td>\n",
       "      <td>...</td>\n",
       "      <td>...</td>\n",
       "      <td>...</td>\n",
       "      <td>...</td>\n",
       "      <td>...</td>\n",
       "      <td>...</td>\n",
       "      <td>...</td>\n",
       "      <td>...</td>\n",
       "      <td>...</td>\n",
       "      <td>...</td>\n",
       "      <td>...</td>\n",
       "      <td>...</td>\n",
       "      <td>...</td>\n",
       "      <td>...</td>\n",
       "      <td>...</td>\n",
       "      <td>...</td>\n",
       "      <td>...</td>\n",
       "      <td>...</td>\n",
       "      <td>...</td>\n",
       "      <td>...</td>\n",
       "    </tr>\n",
       "    <tr>\n",
       "      <th>239320</th>\n",
       "      <td>0</td>\n",
       "      <td>0</td>\n",
       "      <td>0</td>\n",
       "      <td>1</td>\n",
       "      <td>0</td>\n",
       "      <td>0</td>\n",
       "      <td>0</td>\n",
       "      <td>0</td>\n",
       "      <td>1</td>\n",
       "      <td>0</td>\n",
       "      <td>...</td>\n",
       "      <td>0</td>\n",
       "      <td>0</td>\n",
       "      <td>0</td>\n",
       "      <td>0</td>\n",
       "      <td>0</td>\n",
       "      <td>0</td>\n",
       "      <td>0</td>\n",
       "      <td>0</td>\n",
       "      <td>0</td>\n",
       "      <td>0</td>\n",
       "    </tr>\n",
       "    <tr>\n",
       "      <th>239321</th>\n",
       "      <td>0</td>\n",
       "      <td>0</td>\n",
       "      <td>0</td>\n",
       "      <td>1</td>\n",
       "      <td>0</td>\n",
       "      <td>0</td>\n",
       "      <td>0</td>\n",
       "      <td>0</td>\n",
       "      <td>1</td>\n",
       "      <td>0</td>\n",
       "      <td>...</td>\n",
       "      <td>0</td>\n",
       "      <td>0</td>\n",
       "      <td>0</td>\n",
       "      <td>0</td>\n",
       "      <td>0</td>\n",
       "      <td>0</td>\n",
       "      <td>0</td>\n",
       "      <td>0</td>\n",
       "      <td>0</td>\n",
       "      <td>0</td>\n",
       "    </tr>\n",
       "    <tr>\n",
       "      <th>239322</th>\n",
       "      <td>0</td>\n",
       "      <td>0</td>\n",
       "      <td>0</td>\n",
       "      <td>1</td>\n",
       "      <td>0</td>\n",
       "      <td>0</td>\n",
       "      <td>0</td>\n",
       "      <td>0</td>\n",
       "      <td>1</td>\n",
       "      <td>0</td>\n",
       "      <td>...</td>\n",
       "      <td>0</td>\n",
       "      <td>0</td>\n",
       "      <td>0</td>\n",
       "      <td>0</td>\n",
       "      <td>0</td>\n",
       "      <td>0</td>\n",
       "      <td>0</td>\n",
       "      <td>0</td>\n",
       "      <td>0</td>\n",
       "      <td>0</td>\n",
       "    </tr>\n",
       "    <tr>\n",
       "      <th>239323</th>\n",
       "      <td>0</td>\n",
       "      <td>0</td>\n",
       "      <td>0</td>\n",
       "      <td>1</td>\n",
       "      <td>0</td>\n",
       "      <td>0</td>\n",
       "      <td>0</td>\n",
       "      <td>0</td>\n",
       "      <td>1</td>\n",
       "      <td>0</td>\n",
       "      <td>...</td>\n",
       "      <td>0</td>\n",
       "      <td>0</td>\n",
       "      <td>0</td>\n",
       "      <td>0</td>\n",
       "      <td>0</td>\n",
       "      <td>0</td>\n",
       "      <td>0</td>\n",
       "      <td>0</td>\n",
       "      <td>0</td>\n",
       "      <td>0</td>\n",
       "    </tr>\n",
       "    <tr>\n",
       "      <th>239324</th>\n",
       "      <td>0</td>\n",
       "      <td>0</td>\n",
       "      <td>0</td>\n",
       "      <td>1</td>\n",
       "      <td>0</td>\n",
       "      <td>0</td>\n",
       "      <td>0</td>\n",
       "      <td>0</td>\n",
       "      <td>1</td>\n",
       "      <td>0</td>\n",
       "      <td>...</td>\n",
       "      <td>0</td>\n",
       "      <td>0</td>\n",
       "      <td>0</td>\n",
       "      <td>0</td>\n",
       "      <td>0</td>\n",
       "      <td>0</td>\n",
       "      <td>0</td>\n",
       "      <td>0</td>\n",
       "      <td>0</td>\n",
       "      <td>0</td>\n",
       "    </tr>\n",
       "  </tbody>\n",
       "</table>\n",
       "<p>239325 rows × 298 columns</p>\n",
       "</div>"
      ],
      "text/plain": [
       "        Paid  University Type_SLU  University Type_SNHU  University Type_TU  \\\n",
       "0          0                    0                     0                   1   \n",
       "1          0                    0                     0                   1   \n",
       "2          0                    0                     0                   1   \n",
       "3          0                    0                     0                   1   \n",
       "4          0                    0                     0                   1   \n",
       "...      ...                  ...                   ...                 ...   \n",
       "239320     0                    0                     0                   1   \n",
       "239321     0                    0                     0                   1   \n",
       "239322     0                    0                     0                   1   \n",
       "239323     0                    0                     0                   1   \n",
       "239324     0                    0                     0                   1   \n",
       "\n",
       "        SubSource_Agent Received Email  SubSource_Bing Organic  \\\n",
       "0                                    0                       0   \n",
       "1                                    0                       0   \n",
       "2                                    0                       0   \n",
       "3                                    0                       0   \n",
       "4                                    0                       0   \n",
       "...                                ...                     ...   \n",
       "239320                               0                       0   \n",
       "239321                               0                       0   \n",
       "239322                               0                       0   \n",
       "239323                               0                       0   \n",
       "239324                               0                       0   \n",
       "\n",
       "        SubSource_Bing Search  SubSource_FB Fan Page Comment  \\\n",
       "0                           0                              0   \n",
       "1                           0                              0   \n",
       "2                           0                              0   \n",
       "3                           0                              0   \n",
       "4                           0                              0   \n",
       "...                       ...                            ...   \n",
       "239320                      0                              0   \n",
       "239321                      0                              0   \n",
       "239322                      0                              0   \n",
       "239323                      0                              0   \n",
       "239324                      0                              0   \n",
       "\n",
       "        SubSource_FB Paid Ad  SubSource_FB Paid Ad CPC  ...  Country_Taiw�n  \\\n",
       "0                          0                         0  ...               0   \n",
       "1                          0                         0  ...               0   \n",
       "2                          1                         0  ...               0   \n",
       "3                          0                         0  ...               0   \n",
       "4                          0                         0  ...               0   \n",
       "...                      ...                       ...  ...             ...   \n",
       "239320                     1                         0  ...               0   \n",
       "239321                     1                         0  ...               0   \n",
       "239322                     1                         0  ...               0   \n",
       "239323                     1                         0  ...               0   \n",
       "239324                     1                         0  ...               0   \n",
       "\n",
       "        Country_Trinidad y Tobago  Country_Turqu�a  Country_USA  \\\n",
       "0                               0                0            0   \n",
       "1                               0                0            0   \n",
       "2                               0                0            0   \n",
       "3                               0                0            0   \n",
       "4                               0                0            0   \n",
       "...                           ...              ...          ...   \n",
       "239320                          0                0            0   \n",
       "239321                          0                0            0   \n",
       "239322                          0                0            0   \n",
       "239323                          0                0            0   \n",
       "239324                          0                0            0   \n",
       "\n",
       "        Country_Ucrania  Country_United States  Country_Uruguay  \\\n",
       "0                     0                      0                0   \n",
       "1                     0                      0                0   \n",
       "2                     0                      0                0   \n",
       "3                     0                      0                0   \n",
       "4                     0                      0                0   \n",
       "...                 ...                    ...              ...   \n",
       "239320                0                      0                0   \n",
       "239321                0                      0                0   \n",
       "239322                0                      0                0   \n",
       "239323                0                      0                0   \n",
       "239324                0                      0                0   \n",
       "\n",
       "        Country_Venezuela  Country_Vietnam  Country_Zambia  \n",
       "0                       0                0               0  \n",
       "1                       0                0               0  \n",
       "2                       0                0               0  \n",
       "3                       0                0               0  \n",
       "4                       0                0               0  \n",
       "...                   ...              ...             ...  \n",
       "239320                  0                0               0  \n",
       "239321                  0                0               0  \n",
       "239322                  0                0               0  \n",
       "239323                  0                0               0  \n",
       "239324                  0                0               0  \n",
       "\n",
       "[239325 rows x 298 columns]"
      ]
     },
     "execution_count": 77,
     "metadata": {},
     "output_type": "execute_result"
    }
   ],
   "source": [
    "#Comenzamos con la preparacion de nuestros datos\n",
    "df_dummy = pd.get_dummies(DfTree, drop_first=True)\n",
    "df_dummy"
   ]
  },
  {
   "cell_type": "code",
   "execution_count": 78,
   "metadata": {},
   "outputs": [],
   "source": [
    "#Separamos los datos de entrada de la salida\n",
    "X = df_dummy.drop('Paid', axis=1) #Elimino de mi dataset la variable a predecir\n",
    "y = df_dummy.Paid #Defino el Target\n"
   ]
  },
  {
   "cell_type": "code",
   "execution_count": 79,
   "metadata": {},
   "outputs": [],
   "source": [
    "from sklearn.model_selection import train_test_split #Importamos la libreria para separar en train y test\n",
    "\n",
    "#Me quedo con 30% para test y 70% para train\n",
    "X_train, X_test, y_train, y_test = train_test_split(X, y, test_size=0.30, random_state=42) "
   ]
  },
  {
   "cell_type": "code",
   "execution_count": 94,
   "metadata": {},
   "outputs": [],
   "source": [
    "# Aplicamos el Arbol de decision\n",
    "from sklearn.tree import DecisionTreeClassifier #Importamos el modelo\n",
    "tree = DecisionTreeClassifier(max_depth=2, random_state = 42) #Creamos el modelo"
   ]
  },
  {
   "cell_type": "code",
   "execution_count": 95,
   "metadata": {},
   "outputs": [
    {
     "data": {
      "text/plain": [
       "DecisionTreeClassifier(max_depth=2, random_state=42)"
      ]
     },
     "execution_count": 95,
     "metadata": {},
     "output_type": "execute_result"
    }
   ],
   "source": [
    "#Entrenamos el modelo\n",
    "tree.fit(X_train,y_train) #Entrenamos el modelo"
   ]
  },
  {
   "cell_type": "code",
   "execution_count": 97,
   "metadata": {},
   "outputs": [],
   "source": [
    "y_train_pred_tree = tree.predict(X_train) #Prediccion en Train\n",
    "y_test_pred_tree= tree.predict(X_test) #Prediccion en Test"
   ]
  },
  {
   "cell_type": "markdown",
   "metadata": {},
   "source": [
    "## Indicadores de desempeño predictivo - Arbol de decision"
   ]
  },
  {
   "cell_type": "markdown",
   "metadata": {},
   "source": [
    "#### Matriz de Confusion"
   ]
  },
  {
   "cell_type": "code",
   "execution_count": 99,
   "metadata": {},
   "outputs": [
    {
     "name": "stdout",
     "output_type": "stream",
     "text": [
      "[[71193     0]\n",
      " [  605     0]]\n"
     ]
    }
   ],
   "source": [
    "# Presento la Matriz de confusion.\n",
    "from sklearn.metrics import confusion_matrix\n",
    "matriz = confusion_matrix(y_test,y_test_pred_tree)\n",
    "print (matriz)"
   ]
  },
  {
   "cell_type": "markdown",
   "metadata": {},
   "source": [
    "#### Exactitud"
   ]
  },
  {
   "cell_type": "code",
   "execution_count": 100,
   "metadata": {},
   "outputs": [
    {
     "name": "stdout",
     "output_type": "stream",
     "text": [
      "% de aciertos sobre el set de entrenamiento: 0.992228118452548\n",
      "% de aciertos sobre el set de evaluación: 0.9915735814368088\n"
     ]
    }
   ],
   "source": [
    "from sklearn.metrics import accuracy_score\n",
    "\n",
    "#Calculo el accuracy en Train\n",
    "train_accuracy = accuracy_score(y_train, y_train_pred)\n",
    "\n",
    "#Calculo el accuracy en Test\n",
    "test_accuracy = accuracy_score(y_test, y_test_pred_tree)\n",
    "\n",
    "print('% de aciertos sobre el set de entrenamiento:', train_accuracy)\n",
    "print('% de aciertos sobre el set de evaluación:',test_accuracy)"
   ]
  },
  {
   "cell_type": "markdown",
   "metadata": {},
   "source": [
    "#### Sensibilidad"
   ]
  },
  {
   "cell_type": "code",
   "execution_count": 101,
   "metadata": {},
   "outputs": [
    {
     "name": "stdout",
     "output_type": "stream",
     "text": [
      "0.0\n"
     ]
    }
   ],
   "source": [
    "#Calculo la sensibilidad en Test\n",
    "from sklearn.metrics import recall_score\n",
    "sensibilidad = recall_score(y_test,y_test_pred_tree)\n",
    "print (sensibilidad)"
   ]
  },
  {
   "cell_type": "markdown",
   "metadata": {},
   "source": [
    "### Puntaje F1"
   ]
  },
  {
   "cell_type": "code",
   "execution_count": 103,
   "metadata": {},
   "outputs": [
    {
     "name": "stdout",
     "output_type": "stream",
     "text": [
      "0.0\n"
     ]
    }
   ],
   "source": [
    "#Calculo el puntaje F1 en Test\n",
    "from sklearn.metrics import f1_score\n",
    "f1 = f1_score(y_test,y_test_pred_tree)\n",
    "print (f1)"
   ]
  },
  {
   "cell_type": "markdown",
   "metadata": {},
   "source": [
    "# Random Forest"
   ]
  },
  {
   "cell_type": "code",
   "execution_count": 88,
   "metadata": {},
   "outputs": [
    {
     "data": {
      "text/plain": [
       "RandomForestClassifier(class_weight='balanced', max_features='log2',\n",
       "                       n_estimators=200, random_state=11)"
      ]
     },
     "execution_count": 88,
     "metadata": {},
     "output_type": "execute_result"
    }
   ],
   "source": [
    "# Aplicamos un Random Forest y entrenamos el modelo.\n",
    "random = RandomForestClassifier(random_state=11, n_estimators=200,\n",
    "                               class_weight=\"balanced\", max_features=\"log2\")\n",
    "random.fit(X_train, y_train)"
   ]
  },
  {
   "cell_type": "code",
   "execution_count": 104,
   "metadata": {},
   "outputs": [],
   "source": [
    "y_test_pred_random = random.predict(X_test) #Prediccion en Test"
   ]
  },
  {
   "cell_type": "markdown",
   "metadata": {},
   "source": [
    "## Indicadores de desempeño predictivo - Random Forest\n"
   ]
  },
  {
   "cell_type": "markdown",
   "metadata": {},
   "source": [
    "#### Matriz de Confusion"
   ]
  },
  {
   "cell_type": "code",
   "execution_count": 105,
   "metadata": {},
   "outputs": [
    {
     "name": "stdout",
     "output_type": "stream",
     "text": [
      "[[61112 10081]\n",
      " [  324   281]]\n"
     ]
    }
   ],
   "source": [
    "#Presentamos la Matriz de confusion\n",
    "from sklearn.metrics import confusion_matrix\n",
    "matriz = confusion_matrix(y_test,y_test_pred_random)\n",
    "print (matriz)"
   ]
  },
  {
   "cell_type": "markdown",
   "metadata": {},
   "source": [
    "#### Exactitud"
   ]
  },
  {
   "cell_type": "code",
   "execution_count": 106,
   "metadata": {},
   "outputs": [
    {
     "name": "stdout",
     "output_type": "stream",
     "text": [
      "% de aciertos sobre el set de evaluación: 0.855079528677679\n"
     ]
    }
   ],
   "source": [
    "#Calculo el accuracy en Test\n",
    "test_accuracy = accuracy_score(y_test, y_test_pred_random)\n",
    "\n",
    "print('% de aciertos sobre el set de evaluación:',test_accuracy)"
   ]
  },
  {
   "cell_type": "markdown",
   "metadata": {},
   "source": [
    "#### Sensibilidad "
   ]
  },
  {
   "cell_type": "code",
   "execution_count": 107,
   "metadata": {},
   "outputs": [
    {
     "name": "stdout",
     "output_type": "stream",
     "text": [
      "0.4644628099173554\n"
     ]
    }
   ],
   "source": [
    "#Calculo la sensibilidad en Test\n",
    "\n",
    "from sklearn.metrics import recall_score\n",
    "sensibilidad = recall_score(y_test,y_test_pred_random)\n",
    "print (sensibilidad)"
   ]
  },
  {
   "cell_type": "markdown",
   "metadata": {},
   "source": [
    "#### Puntaje F1"
   ]
  },
  {
   "cell_type": "code",
   "execution_count": 108,
   "metadata": {},
   "outputs": [
    {
     "name": "stdout",
     "output_type": "stream",
     "text": [
      "0.051244643019969\n"
     ]
    }
   ],
   "source": [
    "#Calculo el Puntaje F1 en Test\n",
    "\n",
    "from sklearn.metrics import f1_score\n",
    "f1 = f1_score(y_test,y_test_pred_random)\n",
    "print (f1)"
   ]
  },
  {
   "cell_type": "markdown",
   "metadata": {},
   "source": [
    "# Comparacion Curva ROC y Area bajo la curva AUC"
   ]
  },
  {
   "cell_type": "code",
   "execution_count": 109,
   "metadata": {},
   "outputs": [
    {
     "data": {
      "image/png": "[encoded data removed]",
      "text/plain": [
       "<Figure size 500x500 with 1 Axes>"
      ]
     },
     "metadata": {
      "needs_background": "light"
     },
     "output_type": "display_data"
    }
   ],
   "source": [
    "#Realizamos la comparacion de las curvas Roc tanto para el Arbol de decision como para el Random Forest y su respectivos valores AUC\n",
    "from sklearn.metrics import roc_curve, auc\n",
    "\n",
    "tree_fpr, tree_tpr, threshold = roc_curve(y_test,y_test_pred_tree)\n",
    "auc_tree = auc(tree_fpr,tree_tpr)\n",
    "\n",
    "random_fpr, random_tpr, threshold = roc_curve(y_test,y_test_pred_random)\n",
    "auc_random = auc(random_fpr,random_tpr)\n",
    "\n",
    "plt.figure(figsize=(5,5), dpi=100)\n",
    "plt.plot(tree_fpr,tree_tpr,linestyle=\"-\", label=\"Tree (auc=%0.3f)\" % auc_tree)\n",
    "plt.plot(random_fpr,random_tpr,linestyle=\"-\", label=\"Random (auc=%0.3f)\" % auc_random)\n",
    "\n",
    "plt.xlabel(\"Falso Positivo Rate -->\")\n",
    "plt.ylabel(\"Verdadero Positivo Rate -->\")\n",
    "\n",
    "plt.legend()\n",
    "\n",
    "plt.show()\n",
    "\n"
   ]
  },
  {
   "cell_type": "markdown",
   "metadata": {},
   "source": [
    "# Resultados del modelo\n",
    "\n",
    "Como podemos observar, de los dos algoritmos de clasificacion implementados, el que tuvo un mejor resultado sobre la base de datos analizada fue el Random forest, el cual luego de ser analizado con un AUC del 0,661. \n",
    "Es importante aclarar que si bien el Random forest obtuvo mejores resultados en comparacion con el arbol de decision, el mismo no presenta un comportamiento que permita solucionar el planteamiento del problema."
   ]
  }
 ],
 "metadata": {
  "kernelspec": {
   "display_name": "Python 3",
   "language": "python",
   "name": "python3"
  },
  "language_info": {
   "codemirror_mode": {
    "name": "ipython",
    "version": 3
   },
   "file_extension": ".py",
   "mimetype": "text/x-python",
   "name": "python",
   "nbconvert_exporter": "python",
   "pygments_lexer": "ipython3",
   "version": "3.8.8"
  },
  "varInspector": {
   "cols": {
    "lenName": 16,
    "lenType": 16,
    "lenVar": 40
   },
   "kernels_config": {
    "python": {
     "delete_cmd_postfix": "",
     "delete_cmd_prefix": "del ",
     "library": "var_list.py",
     "varRefreshCmd": "print(var_dic_list())"
    },
    "r": {
     "delete_cmd_postfix": ") ",
     "delete_cmd_prefix": "rm(",
     "library": "var_list.r",
     "varRefreshCmd": "cat(var_dic_list()) "
    }
   },
   "types_to_exclude": [
    "module",
    "function",
    "builtin_function_or_method",
    "instance",
    "_Feature"
   ],
   "window_display": false
  }
 },
 "nbformat": 4,
 "nbformat_minor": 4
}
